{
  "nbformat": 4,
  "nbformat_minor": 0,
  "metadata": {
    "kernelspec": {
      "display_name": "Python 3",
      "language": "python",
      "name": "python3"
    },
    "language_info": {
      "codemirror_mode": {
        "name": "ipython",
        "version": 3
      },
      "file_extension": ".py",
      "mimetype": "text/x-python",
      "name": "python",
      "nbconvert_exporter": "python",
      "pygments_lexer": "ipython3",
      "version": "3.7.6"
    },
    "colab": {
      "name": "labelling_script.ipynb",
      "provenance": [],
      "include_colab_link": true
    }
  },
  "cells": [
    {
      "cell_type": "markdown",
      "metadata": {
        "id": "view-in-github",
        "colab_type": "text"
      },
      "source": [
        "<a href=\"https://colab.research.google.com/github/Hamza1122/Face-Spoofing-Detection/blob/main/labelling_script.ipynb\" target=\"_parent\"><img src=\"https://colab.research.google.com/assets/colab-badge.svg\" alt=\"Open In Colab\"/></a>"
      ]
    },
    {
      "cell_type": "code",
      "metadata": {
        "id": "FpTpd1GHqy-Q"
      },
      "source": [
        "import os\n",
        "\n",
        "video_list = []\n",
        "path = 'F:/Dataset/SIW train spoof-20210201T064324Z-001/test_spoof/'\n",
        "\n",
        "files = os.listdir(path)\n",
        "\n",
        "for f in files:\n",
        "\tvideo_list.append(f)\n"
      ],
      "execution_count": null,
      "outputs": []
    },
    {
      "cell_type": "code",
      "metadata": {
        "scrolled": true,
        "id": "39Xs0yf4qy-U"
      },
      "source": [
        "for x in video_list:\n",
        "     print(x.strip(\".mov\"))"
      ],
      "execution_count": null,
      "outputs": []
    },
    {
      "cell_type": "code",
      "metadata": {
        "id": "R-ojenWpqy-V"
      },
      "source": [
        "import cv2\n",
        "try:\n",
        "    for x in video_list:\n",
        "        file_name  = x.strip(\".mov\")\n",
        "        print('F:/Dataset/SIW train spoof-20210201T064324Z-001/test_spoof/'+x)\n",
        "        vidcap = cv2.VideoCapture('F:/Dataset/SIW train spoof-20210201T064324Z-001/test_spoof/'+x)\n",
        "        success, image = vidcap.read()\n",
        "        count = 0\n",
        "        while success:\n",
        "            cv2.imwrite(\"F:/Dataset/SIW train spoof-20210201T064324Z-001/test_spoof/\"+file_name+\"_%d.jpg\" % count, image)    \n",
        "            success, image = vidcap.read()\n",
        "            print('Saved image ', count)\n",
        "            count += 1\n",
        "except:\n",
        "    print('Error loading the file')\n"
      ],
      "execution_count": null,
      "outputs": []
    },
    {
      "cell_type": "code",
      "metadata": {
        "id": "cvEHb2s_qy-W"
      },
      "source": [
        "import os\n",
        "matches = []\n",
        "filenames = os.listdir('F:/Dataset/SIW train spoof-20210201T064324Z-001/test_spoof/')\n",
        "for filename in filenames:\n",
        "\t# if filename.endswith(('.txt', '.MOV', '.avi', '.mpg')):     ## Checking for multiple extenstions\n",
        "\tif filename.endswith('.mov'):\n",
        "\t\tmatches.append(filename)"
      ],
      "execution_count": null,
      "outputs": []
    },
    {
      "cell_type": "code",
      "metadata": {
        "id": "jeu9BWsQqy-W",
        "outputId": "da8f2e15-6ae5-49b8-893e-f44021efc796"
      },
      "source": [
        "matches"
      ],
      "execution_count": null,
      "outputs": [
        {
          "output_type": "execute_result",
          "data": {
            "text/plain": [
              "['spoof3.mov']"
            ]
          },
          "metadata": {
            "tags": []
          },
          "execution_count": 2
        }
      ]
    },
    {
      "cell_type": "code",
      "metadata": {
        "id": "wJKhrlyWqy-a"
      },
      "source": [
        "for x in matches:\n",
        "    os.remove('F:/Dataset/SIW train spoof-20210201T064324Z-001/test_spoof/'+x)"
      ],
      "execution_count": null,
      "outputs": []
    },
    {
      "cell_type": "code",
      "metadata": {
        "id": "us73L00cqy-b"
      },
      "source": [
        ""
      ],
      "execution_count": null,
      "outputs": []
    }
  ]
}