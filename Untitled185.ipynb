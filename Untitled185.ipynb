{
  "nbformat": 4,
  "nbformat_minor": 0,
  "metadata": {
    "colab": {
      "name": "Untitled185.ipynb",
      "provenance": [],
      "collapsed_sections": [],
      "mount_file_id": "1P5igdYuo5v72KwOvRfJFkvpQ-kbgSCnD",
      "authorship_tag": "ABX9TyM7YxLjrW27SiGrVdp6iaEV",
      "include_colab_link": true
    },
    "kernelspec": {
      "name": "python3",
      "display_name": "Python 3"
    }
  },
  "cells": [
    {
      "cell_type": "markdown",
      "metadata": {
        "id": "view-in-github",
        "colab_type": "text"
      },
      "source": [
        "<a href=\"https://colab.research.google.com/github/Hamza1122/Face-Spoofing-Detection/blob/main/Untitled185.ipynb\" target=\"_parent\"><img src=\"https://colab.research.google.com/assets/colab-badge.svg\" alt=\"Open In Colab\"/></a>"
      ]
    },
    {
      "cell_type": "code",
      "metadata": {
        "id": "tjlZxVPOlBG6"
      },
      "source": [
        "import numpy as np\r\n",
        "from tensorflow.keras.applications.vgg16 import VGG16, preprocess_input\r\n",
        "from tensorflow.keras.preprocessing import image\r\n",
        "from keras.utils import np_utils\r\n",
        "from tensorflow.keras.models import Sequential\r\n",
        "from tensorflow.keras.layers import Dense, Conv2D, MaxPooling2D\r\n",
        "from tensorflow.keras.layers import Activation, Dropout, Flatten, Dense\r\n",
        "from tensorflow.keras import backend as K\r\n",
        "\r\n",
        "#for plotting & image viewing\r\n",
        "import scipy.misc\r\n",
        "import matplotlib.pyplot as plt\r\n"
      ],
      "execution_count": 1,
      "outputs": []
    },
    {
      "cell_type": "code",
      "metadata": {
        "id": "uLtsVRgj7So-"
      },
      "source": [
        "#data preprocessing example, to illustrate image transformations\r\n",
        "from tensorflow.keras.preprocessing.image import ImageDataGenerator, array_to_img, img_to_array, load_img\r\n",
        "\r\n",
        "datagen = ImageDataGenerator(\r\n",
        "        rotation_range=40,\r\n",
        "        width_shift_range=0.2,\r\n",
        "        height_shift_range=0.2,\r\n",
        "        shear_range=0.2,\r\n",
        "        zoom_range=0.2,\r\n",
        "        horizontal_flip=True,\r\n",
        "        fill_mode='nearest')"
      ],
      "execution_count": 2,
      "outputs": []
    },
    {
      "cell_type": "code",
      "metadata": {
        "id": "wDFBoBlR7VDG"
      },
      "source": [
        "\r\n",
        "\r\n",
        "# re-size all the images to this\r\n",
        "IMAGE_SIZE = [224,224]\r\n",
        "\r\n",
        "train_path = '/content/drive/MyDrive/Data/Test\r\n",
        "'\r\n",
        "valid_path = '/content/drive/MyDrive/Data/Test\r\n",
        "'\r\n"
      ],
      "execution_count": null,
      "outputs": []
    }
  ]
}